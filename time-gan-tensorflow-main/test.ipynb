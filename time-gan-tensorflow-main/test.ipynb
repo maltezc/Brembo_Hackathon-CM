{
 "cells": [
  {
   "cell_type": "code",
   "execution_count": 3,
   "id": "initial_id",
   "metadata": {
    "collapsed": true,
    "ExecuteTime": {
     "end_time": "2023-10-14T23:02:14.485966Z",
     "start_time": "2023-10-14T22:59:57.739834Z"
    }
   },
   "outputs": [
    {
     "name": "stdout",
     "output_type": "stream",
     "text": [
      "epoch: 1 autoencoder_loss: 48.923363 generator_loss: 15.134606 discriminator_loss: 2.399040\n",
      "epoch: 2 autoencoder_loss: 48.623032 generator_loss: 17.711184 discriminator_loss: 1.940158\n",
      "epoch: 3 autoencoder_loss: 46.241512 generator_loss: 30.154003 discriminator_loss: 1.571070\n",
      "epoch: 4 autoencoder_loss: 42.524029 generator_loss: 51.229084 discriminator_loss: 1.044537\n",
      "epoch: 5 autoencoder_loss: 38.252647 generator_loss: 62.621258 discriminator_loss: 0.732054\n",
      "epoch: 6 autoencoder_loss: 33.479065 generator_loss: 71.619019 discriminator_loss: 0.490216\n",
      "epoch: 7 autoencoder_loss: 29.364653 generator_loss: 76.542946 discriminator_loss: 0.250275\n",
      "epoch: 8 autoencoder_loss: 25.244570 generator_loss: 67.180130 discriminator_loss: 0.161341\n",
      "epoch: 9 autoencoder_loss: 21.274448 generator_loss: 62.629238 discriminator_loss: 0.040434\n",
      "epoch: 10 autoencoder_loss: 17.901125 generator_loss: 55.399826 discriminator_loss: 0.034948\n",
      "epoch: 11 autoencoder_loss: 15.398660 generator_loss: 46.928509 discriminator_loss: 0.118748\n",
      "epoch: 12 autoencoder_loss: 13.628316 generator_loss: 41.482594 discriminator_loss: 0.019262\n",
      "epoch: 13 autoencoder_loss: 12.330670 generator_loss: 41.357704 discriminator_loss: 0.017893\n",
      "epoch: 14 autoencoder_loss: 11.672663 generator_loss: 36.414944 discriminator_loss: 0.027715\n",
      "epoch: 15 autoencoder_loss: 10.758306 generator_loss: 35.335632 discriminator_loss: 0.015979\n",
      "epoch: 16 autoencoder_loss: 10.479243 generator_loss: 34.099850 discriminator_loss: 0.013804\n",
      "epoch: 17 autoencoder_loss: 10.564966 generator_loss: 32.401157 discriminator_loss: 0.010471\n",
      "epoch: 18 autoencoder_loss: 10.242812 generator_loss: 31.154932 discriminator_loss: 0.007708\n",
      "epoch: 19 autoencoder_loss: 10.296003 generator_loss: 27.997923 discriminator_loss: 0.029892\n",
      "epoch: 20 autoencoder_loss: 10.263045 generator_loss: 26.180813 discriminator_loss: 0.498106\n",
      "epoch: 21 autoencoder_loss: 10.044247 generator_loss: 25.080717 discriminator_loss: 0.014399\n",
      "epoch: 22 autoencoder_loss: 9.915515 generator_loss: 24.238178 discriminator_loss: 0.010371\n",
      "epoch: 23 autoencoder_loss: 9.836165 generator_loss: 28.771774 discriminator_loss: 0.006574\n",
      "epoch: 24 autoencoder_loss: 9.989768 generator_loss: 20.751873 discriminator_loss: 0.009998\n",
      "epoch: 25 autoencoder_loss: 9.849755 generator_loss: 23.047012 discriminator_loss: 0.006672\n",
      "epoch: 26 autoencoder_loss: 10.071422 generator_loss: 19.202747 discriminator_loss: 0.006785\n",
      "epoch: 27 autoencoder_loss: 9.911160 generator_loss: 22.074409 discriminator_loss: 0.022209\n",
      "epoch: 28 autoencoder_loss: 9.804338 generator_loss: 23.168930 discriminator_loss: 0.005734\n",
      "epoch: 29 autoencoder_loss: 9.984629 generator_loss: 20.002457 discriminator_loss: 0.013695\n",
      "epoch: 30 autoencoder_loss: 9.715912 generator_loss: 21.840250 discriminator_loss: 0.008422\n",
      "epoch: 31 autoencoder_loss: 9.829344 generator_loss: 21.640503 discriminator_loss: 0.018620\n",
      "epoch: 32 autoencoder_loss: 9.958362 generator_loss: 19.665571 discriminator_loss: 0.007193\n",
      "epoch: 33 autoencoder_loss: 9.491555 generator_loss: 18.151157 discriminator_loss: 0.006026\n",
      "epoch: 34 autoencoder_loss: 9.788567 generator_loss: 18.924879 discriminator_loss: 0.008014\n",
      "epoch: 35 autoencoder_loss: 9.727856 generator_loss: 19.925798 discriminator_loss: 0.004203\n",
      "epoch: 36 autoencoder_loss: 9.866649 generator_loss: 23.327347 discriminator_loss: 0.003377\n",
      "epoch: 37 autoencoder_loss: 10.017966 generator_loss: 18.014856 discriminator_loss: 0.003649\n",
      "epoch: 38 autoencoder_loss: 9.626827 generator_loss: 20.226557 discriminator_loss: 0.004533\n",
      "epoch: 39 autoencoder_loss: 9.782351 generator_loss: 21.650927 discriminator_loss: 0.009024\n",
      "epoch: 40 autoencoder_loss: 9.743576 generator_loss: 22.701393 discriminator_loss: 0.012071\n",
      "epoch: 41 autoencoder_loss: 9.822604 generator_loss: 21.040846 discriminator_loss: 0.007839\n",
      "epoch: 42 autoencoder_loss: 9.653410 generator_loss: 19.359491 discriminator_loss: 0.012120\n",
      "epoch: 43 autoencoder_loss: 9.711694 generator_loss: 22.450865 discriminator_loss: 0.010987\n",
      "epoch: 44 autoencoder_loss: 9.668152 generator_loss: 24.006838 discriminator_loss: 0.015595\n",
      "epoch: 45 autoencoder_loss: 9.696250 generator_loss: 19.771307 discriminator_loss: 0.008175\n",
      "epoch: 46 autoencoder_loss: 9.616758 generator_loss: 22.899790 discriminator_loss: 0.005207\n",
      "epoch: 47 autoencoder_loss: 9.719499 generator_loss: 17.938936 discriminator_loss: 0.120364\n",
      "epoch: 48 autoencoder_loss: 9.810991 generator_loss: 22.989574 discriminator_loss: 0.036386\n",
      "epoch: 49 autoencoder_loss: 9.485846 generator_loss: 18.659595 discriminator_loss: 0.488141\n",
      "epoch: 50 autoencoder_loss: 9.632689 generator_loss: 27.672745 discriminator_loss: 0.269177\n"
     ]
    }
   ],
   "source": [
    "import numpy as np\n",
    "\n",
    "from time_gan_tensorflow.model import TimeGAN\n",
    "from time_gan_tensorflow.plots import plot\n",
    "\n",
    "# Generate the data\n",
    "N = 50      # number of time series\n",
    "L = 1000    # length of each time series\n",
    "t = np.linspace(0, 1, L).reshape(-1, 1)\n",
    "c = np.cos(2 * np.pi * (50 * t - 0.5))\n",
    "s = np.sin(2 * np.pi * (100 * t - 0.5))\n",
    "x = 5 + 10 * c + 10 * s + 5 * np.random.normal(size=(L, N))\n",
    "\n",
    "# Split the data\n",
    "x_train, x_test = x[:int(0.8 * L)], x[int(0.8 * L):]\n",
    "\n",
    "# Fit the model to the training data\n",
    "model = TimeGAN(\n",
    "    x=x_train,\n",
    "    timesteps=20,\n",
    "    hidden_dim=64,\n",
    "    num_layers=3,\n",
    "    lambda_param=0.1,\n",
    "    eta_param=10,\n",
    "    learning_rate=0.001,\n",
    "    batch_size=16\n",
    ")\n",
    "\n",
    "model.fit(\n",
    "    epochs=50,\n",
    "    verbose=True\n",
    ")\n",
    "\n",
    "# Reconstruct the test data\n",
    "x_hat = model.reconstruct(x=x_test)\n",
    "\n",
    "# Generate the synthetic data\n",
    "x_sim = model.simulate(samples=len(x_test))\n",
    "\n",
    "# Plot the actual, reconstructed and synthetic data\n",
    "fig = plot(actual=x_test, reconstructed=x_hat, synthetic=x_sim)\n",
    "fig.write_image('results.png', scale=4, height=900, width=700)\n"
   ]
  },
  {
   "cell_type": "code",
   "execution_count": 3,
   "outputs": [],
   "source": [],
   "metadata": {
    "collapsed": false,
    "ExecuteTime": {
     "end_time": "2023-10-14T23:02:14.493074Z",
     "start_time": "2023-10-14T23:02:14.489256Z"
    }
   },
   "id": "4b9254d0f71eae0e"
  }
 ],
 "metadata": {
  "kernelspec": {
   "display_name": "Python 3",
   "language": "python",
   "name": "python3"
  },
  "language_info": {
   "codemirror_mode": {
    "name": "ipython",
    "version": 2
   },
   "file_extension": ".py",
   "mimetype": "text/x-python",
   "name": "python",
   "nbconvert_exporter": "python",
   "pygments_lexer": "ipython2",
   "version": "2.7.6"
  }
 },
 "nbformat": 4,
 "nbformat_minor": 5
}
